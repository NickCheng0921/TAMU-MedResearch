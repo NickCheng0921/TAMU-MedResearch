{
 "cells": [
  {
   "cell_type": "code",
   "execution_count": 2,
   "id": "34fef8c6-1d1b-494c-88f0-5b5542c6e7a1",
   "metadata": {},
   "outputs": [
    {
     "data": {
      "text/plain": [
       "'\\nSet these environment variables before using lab scripts to pull postgres MIMIC3 data\\nexport PSQL_USER=\"<username for your PSQL DB>\"\\nexport PSQL_PSWD=\"<password for your PSQL DB>\"\\nexport JDBC_PATH=\"<path to your JDBC driver>\"\\n'"
      ]
     },
     "execution_count": 2,
     "metadata": {},
     "output_type": "execute_result"
    }
   ],
   "source": [
    "\"\"\"\n",
    "Set these environment variables before using lab scripts to pull postgres MIMIC3 data\n",
    "export PSQL_USER=\"<username for your PSQL DB>\"\n",
    "export PSQL_PSWD=\"<password for your PSQL DB>\"\n",
    "export JDBC_PATH=\"<path to your JDBC driver>\"\n",
    "\"\"\""
   ]
  },
  {
   "cell_type": "code",
   "execution_count": null,
   "id": "94b25986-0772-486e-abc7-2ba9aa1ad4bf",
   "metadata": {},
   "outputs": [],
   "source": []
  }
 ],
 "metadata": {
  "kernelspec": {
   "display_name": "Python 3",
   "language": "python",
   "name": "python3"
  },
  "language_info": {
   "codemirror_mode": {
    "name": "ipython",
    "version": 3
   },
   "file_extension": ".py",
   "mimetype": "text/x-python",
   "name": "python",
   "nbconvert_exporter": "python",
   "pygments_lexer": "ipython3",
   "version": "3.7.13"
  }
 },
 "nbformat": 4,
 "nbformat_minor": 5
}
