{
 "cells": [
  {
   "cell_type": "markdown",
   "id": "75ebe4b0-e70e-4bad-94ae-728101565af8",
   "metadata": {},
   "source": [
    "## Time-Series Notebook\n",
    "Recreation of time series data branch\n",
    "Uses mimic benchmark to decide features"
   ]
  },
  {
   "cell_type": "code",
   "execution_count": 1,
   "id": "34fef8c6-1d1b-494c-88f0-5b5542c6e7a1",
   "metadata": {},
   "outputs": [
    {
     "name": "stdout",
     "output_type": "stream",
     "text": [
      "env: PSQL_USER=postgres\n",
      "env: PSQL_PSWD=postgres\n",
      "env: JDBC_PATH=../TAMU-MedResearch/postgresql-42.4.0.jar\n",
      "env: PYSPARK_PYTHON=/home/ugrads/k/kingrc15/anaconda3/bin/python\n"
     ]
    }
   ],
   "source": [
    "%env PSQL_USER=postgres\n",
    "%env PSQL_PSWD=postgres\n",
    "%env JDBC_PATH=../TAMU-MedResearch/postgresql-42.4.0.jar\n",
    "%env PYSPARK_PYTHON=/home/ugrads/k/kingrc15/anaconda3/bin/python\n",
    "import sys\n",
    "\n",
    "if \"/home/ugrads/n/nickcheng0921/omop-summary\" not in sys.path:\n",
    "    sys.path.append(\"/home/ugrads/n/nickcheng0921/omop-summary\")\n",
    "import omop_summary\n",
    "\n",
    "sc, session = omop_summary.create_spark_context()"
   ]
  },
  {
   "cell_type": "code",
   "execution_count": 14,
   "id": "128f9a0f-9d8b-49dc-a0f9-db040a1ec127",
   "metadata": {},
   "outputs": [],
   "source": [
    "patients = omop_summary.utils.get_table(\"SELECT * FROM mimiciii.patients LIMIT 5\", session)"
   ]
  },
  {
   "cell_type": "code",
   "execution_count": 19,
   "id": "75dd32ad-76ec-49ff-9399-d7affefbb984",
   "metadata": {},
   "outputs": [],
   "source": [
    "patient1_id = patients.head(1)[0]['mimic_id']"
   ]
  },
  {
   "cell_type": "code",
   "execution_count": 20,
   "id": "ec722c8e-d90b-423c-8eff-287927b606cd",
   "metadata": {},
   "outputs": [
    {
     "data": {
      "text/plain": [
       "392775850"
      ]
     },
     "execution_count": 20,
     "metadata": {},
     "output_type": "execute_result"
    }
   ],
   "source": [
    "patient1_id"
   ]
  },
  {
   "cell_type": "code",
   "execution_count": 37,
   "id": "cab2fbec-3b71-4773-8819-1313f91afd05",
   "metadata": {},
   "outputs": [],
   "source": [
    "import pickle\n",
    "import psycopg2 as py\n",
    "\n",
    "# Replace this with your mimic iii database details\n",
    "conn = py.connect(\n",
    "    \"dbname = 'mimic' user = 'postgres' host = 'localhost' port='5432' password = 'postgres'\")"
   ]
  },
  {
   "cell_type": "code",
   "execution_count": 39,
   "id": "0b75ff6c-72d9-4d47-a446-02a37cf64d6d",
   "metadata": {},
   "outputs": [
    {
     "ename": "InFailedSqlTransaction",
     "evalue": "current transaction is aborted, commands ignored until end of transaction block\n",
     "output_type": "error",
     "traceback": [
      "\u001b[0;31m---------------------------------------------------------------------------\u001b[0m",
      "\u001b[0;31mInFailedSqlTransaction\u001b[0m                    Traceback (most recent call last)",
      "\u001b[0;32m<ipython-input-39-d0292caec2a2>\u001b[0m in \u001b[0;36m<module>\u001b[0;34m\u001b[0m\n\u001b[1;32m      1\u001b[0m \u001b[0mcur\u001b[0m \u001b[0;34m=\u001b[0m \u001b[0mconn\u001b[0m\u001b[0;34m.\u001b[0m\u001b[0mcursor\u001b[0m\u001b[0;34m(\u001b[0m\u001b[0;34m)\u001b[0m\u001b[0;34m\u001b[0m\u001b[0;34m\u001b[0m\u001b[0m\n\u001b[0;32m----> 2\u001b[0;31m \u001b[0mcur\u001b[0m\u001b[0;34m.\u001b[0m\u001b[0mexecute\u001b[0m\u001b[0;34m(\u001b[0m\u001b[0;34m\"\"\"select hadm_id from mimiciii.admissions\"\"\"\u001b[0m\u001b[0;34m)\u001b[0m\u001b[0;34m\u001b[0m\u001b[0;34m\u001b[0m\u001b[0m\n\u001b[0m\u001b[1;32m      3\u001b[0m \u001b[0mlist_adm_id\u001b[0m \u001b[0;34m=\u001b[0m \u001b[0mcur\u001b[0m\u001b[0;34m.\u001b[0m\u001b[0mfetchall\u001b[0m\u001b[0;34m(\u001b[0m\u001b[0;34m)\u001b[0m\u001b[0;34m\u001b[0m\u001b[0;34m\u001b[0m\u001b[0m\n\u001b[1;32m      4\u001b[0m \u001b[0;34m\u001b[0m\u001b[0m\n\u001b[1;32m      5\u001b[0m cur.execute(\"select hadm_id, admission_type, trunc(extract(epoch from \" +\n",
      "\u001b[0;31mInFailedSqlTransaction\u001b[0m: current transaction is aborted, commands ignored until end of transaction block\n"
     ]
    }
   ],
   "source": [
    "cur = conn.cursor()\n",
    "cur.execute(\"\"\"select hadm_id from admissions\"\"\")\n",
    "list_adm_id = cur.fetchall()\n",
    "\n",
    "cur.execute(\"select hadm_id, admission_type, trunc(extract(epoch from \" +\n",
    "            \"dischtime- admittime)/3600), hospital_expire_flag from admissions\")\n",
    "length_of_stay = cur.fetchall()\n",
    "pickle.dump(length_of_stay, open('adm_type_los_mortality.p', 'wb'))\n"
   ]
  },
  {
   "cell_type": "code",
   "execution_count": null,
   "id": "156ec926-9a00-4346-89ea-152529d1f053",
   "metadata": {},
   "outputs": [],
   "source": []
  }
 ],
 "metadata": {
  "kernelspec": {
   "display_name": "Python 3",
   "language": "python",
   "name": "python3"
  },
  "language_info": {
   "codemirror_mode": {
    "name": "ipython",
    "version": 3
   },
   "file_extension": ".py",
   "mimetype": "text/x-python",
   "name": "python",
   "nbconvert_exporter": "python",
   "pygments_lexer": "ipython3",
   "version": "3.7.13"
  }
 },
 "nbformat": 4,
 "nbformat_minor": 5
}
