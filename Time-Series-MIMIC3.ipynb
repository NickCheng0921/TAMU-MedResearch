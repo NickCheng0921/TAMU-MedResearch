{
 "cells": [
  {
   "cell_type": "markdown",
   "id": "75ebe4b0-e70e-4bad-94ae-728101565af8",
   "metadata": {},
   "source": [
    "## Time-Series Notebook\n",
    "Recreation of time series data branch\n",
    "Uses mimic benchmark to decide features"
   ]
  },
  {
   "cell_type": "code",
   "execution_count": 1,
   "id": "34fef8c6-1d1b-494c-88f0-5b5542c6e7a1",
   "metadata": {},
   "outputs": [
    {
     "name": "stdout",
     "output_type": "stream",
     "text": [
      "env: PSQL_USER=postgres\n",
      "env: PSQL_PSWD=postgres\n",
      "env: JDBC_PATH=../TAMU-MedResearch/postgresql-42.4.0.jar\n",
      "env: PYSPARK_PYTHON=/home/ugrads/k/kingrc15/anaconda3/bin/python\n"
     ]
    }
   ],
   "source": [
    "%env PSQL_USER=postgres\n",
    "%env PSQL_PSWD=postgres\n",
    "%env JDBC_PATH=../TAMU-MedResearch/postgresql-42.4.0.jar\n",
    "%env PYSPARK_PYTHON=/home/ugrads/k/kingrc15/anaconda3/bin/python\n",
    "import sys, time, pickle\n",
    "\n",
    "if \"/home/ugrads/n/nickcheng0921/omop-summary\" not in sys.path:\n",
    "    sys.path.append(\"/home/ugrads/n/nickcheng0921/omop-summary\")\n",
    "import omop_summary\n",
    "sc, session = omop_summary.create_spark_context()"
   ]
  },
  {
   "cell_type": "code",
   "execution_count": 5,
   "id": "62606e96-501f-45cf-b391-55aa352aa73d",
   "metadata": {},
   "outputs": [],
   "source": [
    "def tuplify(x):\n",
    "    l = []\n",
    "    for i in x.collect():\n",
    "        l.append(tuple(i))\n",
    "    return l"
   ]
  },
  {
   "cell_type": "markdown",
   "id": "82a36d79-e5b6-49c7-b32a-5d2ff9318410",
   "metadata": {},
   "source": [
    "### The pickle dump in the below cell has to be run once per execution, commented out as it has already been run"
   ]
  },
  {
   "cell_type": "code",
   "execution_count": 22,
   "id": "0b75ff6c-72d9-4d47-a446-02a37cf64d6d",
   "metadata": {},
   "outputs": [],
   "source": [
    "#cur.execute(\"\"\"select hadm_id from admissions\"\"\")\n",
    "list_adm_id = tuplify(omop_summary.utils.get_table(\"select hadm_id from mimiciii.admissions\", session))\n",
    "\n",
    "#cur.execute(\"select hadm_id, admission_type, trunc(extract(epoch from \" +\n",
    "#            \"dischtime- admittime)/3600), hospital_expire_flag from admissions\")\n",
    "length_of_stay = omop_summary.utils.get_table(\"select hadm_id, admission_type, trunc(extract(epoch from dischtime - admittime)/3600), hospital_expire_flag from mimiciii.admissions\", session)\n",
    "#pickle.dump(tuplify(length_of_stay), open('adm_type_los_mortality.p', 'wb'))"
   ]
  },
  {
   "cell_type": "markdown",
   "id": "f802673d-5f20-449d-9fbf-1b33aa3ed77e",
   "metadata": {},
   "source": [
    "## Playing around w/ possibility of reduced dataset"
   ]
  },
  {
   "cell_type": "code",
   "execution_count": null,
   "id": "e671d4db-05be-4851-b645-98de1207ea78",
   "metadata": {},
   "outputs": [],
   "source": [
    "\"\"\"\n",
    "Loading 125 takes 1875 - 1912 minutes for single tmux\n",
    "\"\"\""
   ]
  }
 ],
 "metadata": {
  "kernelspec": {
   "display_name": "Python 3",
   "language": "python",
   "name": "python3"
  },
  "language_info": {
   "codemirror_mode": {
    "name": "ipython",
    "version": 3
   },
   "file_extension": ".py",
   "mimetype": "text/x-python",
   "name": "python",
   "nbconvert_exporter": "python",
   "pygments_lexer": "ipython3",
   "version": "3.7.13"
  }
 },
 "nbformat": 4,
 "nbformat_minor": 5
}
