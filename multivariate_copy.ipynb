{
 "cells": [
  {
   "cell_type": "markdown",
   "id": "bc64234b-1f73-445a-ae33-645fb0b9eadf",
   "metadata": {},
   "source": [
    "Objective of this notebook is to break down the multivariate interpolation layer from the paper, so that I can run physiological time series through it"
   ]
  },
  {
   "cell_type": "code",
   "execution_count": 1,
   "id": "546db274-c7bc-4fbb-be7f-391bd2729303",
   "metadata": {
    "tags": []
   },
   "outputs": [],
   "source": [
    "import argparse\n",
    "import numpy as np\n",
    "import logging, os\n",
    "logging.disable(logging.WARNING)\n",
    "os.environ[\"TF_CPP_MIN_LOG_LEVEL\"] = \"3\"\n",
    "import tensorflow as tf\n",
    "from sklearn.model_selection import StratifiedKFold\n",
    "from sklearn.metrics import average_precision_score as auprc\n",
    "from sklearn.metrics import roc_auc_score as auc_score\n",
    "import keras\n",
    "#from keras.utils import multi_gpu_model\n",
    "from keras.layers import Input, Dense, GRU, Lambda, Permute\n",
    "from keras.models import Model\n",
    "from interpolation_layer import single_channel_interp, cross_channel_interp\n",
    "from mimic_preprocessing import load_data, trim_los, fix_input_format\n",
    "import warnings\n",
    "import matplotlib.pyplot as plt\n",
    "warnings.filterwarnings(\"ignore\")\n",
    "\n",
    "np.random.seed(10)"
   ]
  },
  {
   "cell_type": "markdown",
   "id": "6e8ccc26-22af-412f-b6f0-e35ca84f65b9",
   "metadata": {},
   "source": [
    "## Helper functions"
   ]
  },
  {
   "cell_type": "code",
   "execution_count": 2,
   "id": "89da71de-5281-4951-8c76-06933157e99f",
   "metadata": {},
   "outputs": [],
   "source": [
    "def hold_out(mask, perc=0.2):\n",
    "    \"\"\"To implement the autoencoder component of the loss, we introduce a set\n",
    "    of masking variables mr (and mr1) for each data point. If drop_mask = 0,\n",
    "    then we remove the data point as an input to the interpolation network,\n",
    "    and includecthe predicted value at this time point when assessing\n",
    "    the autoencoder loss. In practice, we randomly select 20% of the\n",
    "    observed data points to hold out from\n",
    "    every input time series.\"\"\"\n",
    "    drop_mask = np.ones_like(mask)\n",
    "    drop_mask *= mask\n",
    "    for i in range(mask.shape[0]):\n",
    "        for j in range(mask.shape[1]):\n",
    "            count = np.sum(mask[i, j], dtype='int')\n",
    "            if int(0.20*count) > 1:\n",
    "                index = 0\n",
    "                r = np.ones((count, 1))\n",
    "                b = np.random.choice(count, int(0.20*count), replace=False)\n",
    "                r[b] = 0\n",
    "                for k in range(mask.shape[2]):\n",
    "                    if mask[i, j, k] > 0:\n",
    "                        drop_mask[i, j, k] = r[index]\n",
    "                        index += 1\n",
    "    return drop_mask"
   ]
  },
  {
   "cell_type": "code",
   "execution_count": 3,
   "id": "d5abbb3d-ae4e-401b-858d-8d509d056bc8",
   "metadata": {},
   "outputs": [],
   "source": [
    "def mean_imputation(vitals, mask):\n",
    "    \"\"\"For the time series missing entirely, our interpolation network \n",
    "    assigns the starting point (time t=0) value of the time series to \n",
    "    the global mean before applying the two-layer interpolation network.\n",
    "    In such cases, the first interpolation layer just outputs the global\n",
    "    mean for that channel, but the second interpolation layer performs \n",
    "    a more meaningful interpolation using the learned correlations from\n",
    "    other channels.\"\"\"\n",
    "    counts = np.sum(np.sum(mask, axis=2), axis=0)\n",
    "    mean_values = np.sum(np.sum(vitals*mask, axis=2), axis=0)/counts\n",
    "    for i in range(mask.shape[0]):\n",
    "        for j in range(mask.shape[1]):\n",
    "            if np.sum(mask[i, j]) == 0:\n",
    "                mask[i, j, 0] = 1\n",
    "                vitals[i, j, 0] = mean_values[j]\n",
    "    return"
   ]
  },
  {
   "cell_type": "markdown",
   "id": "f4fb7e49-39d3-4be4-9d06-a2c0cf441733",
   "metadata": {},
   "source": [
    "## Arguments"
   ]
  },
  {
   "cell_type": "code",
   "execution_count": 38,
   "id": "fb3c13ee-960f-441e-ae18-2a3aafda240a",
   "metadata": {},
   "outputs": [],
   "source": [
    "gpu_num = 1\n",
    "epoch = 10\n",
    "hid = 512\n",
    "ref_points = 128\n",
    "hours_look_ahead = 48\n",
    "if gpu_num > 0:\n",
    "    batch = 512*gpu_num\n",
    "else:\n",
    "    batch = 512\n",
    "    \n",
    "#nicks notes args\n",
    "vocabulary = 6000"
   ]
  },
  {
   "cell_type": "markdown",
   "id": "f1480606-02e4-41da-a3c7-8956feea83f5",
   "metadata": {},
   "source": [
    "## Loading Data\n",
    "adjust # of patients in mimic_preprocessing.py"
   ]
  },
  {
   "cell_type": "code",
   "execution_count": 9,
   "id": "e32f85c0-7849-4cb5-b715-19a1b092c895",
   "metadata": {},
   "outputs": [
    {
     "name": "stdout",
     "output_type": "stream",
     "text": [
      "Loading files ...\n",
      "Loading Done with 1000 patients! Nick\n",
      "920 920\n",
      "(920, 12, 200) 920\n",
      "X shape: (920, 48, 200), Y shape: (920,)\n",
      "Loading files ...\n",
      "Loading Done with 1000 patients! Nick\n",
      "920 920\n",
      "(920, 12, 200) 920\n",
      "X shape: (920, 48, 200), Y shape: (920,)\n"
     ]
    }
   ],
   "source": [
    "# Loading dataset\n",
    "# y : (N,) discrete for classification, real values for regression\n",
    "# x : (N, D, tn) input multivariate time series data with dimension\n",
    "#     where N is number of data cases, D is the dimension of\n",
    "#     sparse and irregularly sampled time series and tn is the union\n",
    "#     of observed time stamps in all the dimension for a data case n.\n",
    "#     Since each tn is of variable length, we pad them with zeros to# Loading dataset\n",
    "# y : (N,) discrete for classification, real values for regression\n",
    "# x : (N, D, tn) input multivariate time series data with dimension\n",
    "#     where N is number of data cases, D is the dimension of\n",
    "#     sparse and irregularly sampled time series and tn is the union\n",
    "#     of observed time stamps in all the dimension for a data case n.\n",
    "#     Since each tn is of variable length, we pad them with zeros to\n",
    "#     have an array representation.\n",
    "# m : (N, D, tn) where m[i,j,k] = 0 means that x[i,j,k] is not observed.\n",
    "# T : (N, D, tn) represents the actual time stamps of observation;\n",
    "\n",
    "vitals, label = load_data()\n",
    "vitals, timestamps = trim_los(vitals, hours_look_ahead)\n",
    "x, m, T = fix_input_format(vitals, timestamps)\n",
    "mean_imputation(x, m)\n",
    "x = np.concatenate((x, m, T, hold_out(m)), axis=1)  # input format\n",
    "y = np.array(label)\n",
    "print(f\"X shape: {x.shape}, Y shape: {y.shape}\")\n",
    "timestamp = x.shape[2]\n",
    "num_features = x.shape[1] // 4\n",
    "#     have an array representation.\n",
    "# m : (N, D, tn) where m[i,j,k] = 0 means that x[i,j,k] is not observed.\n",
    "# T : (N, D, tn) represents the actual time stamps of observation;\n",
    "\n",
    "vitals, label = load_data()\n",
    "vitals, timestamps = trim_los(vitals, hours_look_ahead)\n",
    "x, m, T = fix_input_format(vitals, timestamps)\n",
    "mean_imputation(x, m)\n",
    "x = np.concatenate((x, m, T, hold_out(m)), axis=1)  # input format\n",
    "y = np.array(label)\n",
    "print(f\"X shape: {x.shape}, Y shape: {y.shape}\")\n",
    "timestamp = x.shape[2]\n",
    "num_features = x.shape[1] // 4\n",
    "\n",
    "import pickle\n",
    "patient_notes = pickle.load(open('notes_1000.p', 'rb'))[:len(label)]"
   ]
  },
  {
   "cell_type": "code",
   "execution_count": 49,
   "id": "a5dea9c8-f4fe-4f89-b1c3-c61f1bfb57e0",
   "metadata": {},
   "outputs": [],
   "source": [
    "def customloss(ytrue, ypred):\n",
    "    \"\"\" Autoencoder loss\n",
    "    \"\"\"\n",
    "    # standard deviation of each feature mentioned in paper for MIMIC_III data\n",
    "    wc = np.array([3.33, 23.27, 5.69, 22.45, 14.75, 2.32,\n",
    "                   3.75, 1.0, 98.1, 23.41, 59.32, 1.41])\n",
    "    wc.shape = (1, num_features)\n",
    "    y = ytrue[:, :num_features, :]\n",
    "    m2 = ytrue[:, 3*num_features:4*num_features, :]\n",
    "    m2 = 1 - m2\n",
    "    m1 = ytrue[:, num_features:2*num_features, :]\n",
    "    m = m1*m2\n",
    "    ypred = ypred[:, :num_features, :]\n",
    "    x = (y - ypred)*(y - ypred)\n",
    "    x = x*m\n",
    "    count = tf.reduce_sum(m, axis=2)\n",
    "    count = tf.where(count > 0, count, tf.ones_like(count))\n",
    "    x = tf.reduce_sum(x, axis=2)/count\n",
    "    x = x/(wc**2)  # dividing by standard deviation\n",
    "    x = tf.reduce_sum(x, axis=1)/num_features\n",
    "    return tf.reduce_mean(x)\n",
    "\n",
    "seed = 0\n",
    "results = {}\n",
    "results['loss'] = []\n",
    "results['auc'] = []\n",
    "results['acc'] = []\n",
    "results['auprc'] = []\n",
    "\n",
    "# interpolation-prediction network\n",
    "\n",
    "\n",
    "def interp_net():\n",
    "    if gpu_num > 1:\n",
    "        dev = \"/cpu:0\"\n",
    "    else:\n",
    "        dev = \"/gpu:0\"\n",
    "    with tf.device(dev):\n",
    "        main_input = Input(shape=(4*num_features, timestamp), name='input')\n",
    "        notes_input = Input(shape=(vocabulary), name='notes_input')\n",
    "        sci = single_channel_interp(ref_points, hours_look_ahead)\n",
    "        cci = cross_channel_interp()\n",
    "        interp = cci(sci(main_input))\n",
    "        reconst = cci(sci(main_input, reconstruction=True),\n",
    "                      reconstruction=True)\n",
    "        aux_output = Lambda(lambda x: x, name='aux_output')(reconst)\n",
    "        z = Permute((2, 1))(interp)\n",
    "        z = GRU(hid, activation='tanh', recurrent_dropout=0.2, dropout=0.2)(z)\n",
    "        main_output = Dense(1, activation='sigmoid', name='main_output')(z)\n",
    "        orig_model = Model([main_input, notes_input], [main_output, aux_output])\n",
    "    if gpu_num > 1:\n",
    "        model = multi_gpu_model(orig_model, gpus=gpu_num)\n",
    "    else:\n",
    "        model = orig_model\n",
    "    #print(orig_model.summary())\n",
    "    return model\n",
    "\n",
    "earlystop = keras.callbacks.EarlyStopping(\n",
    "    monitor='val_loss', min_delta=0.0000, patience=20, verbose=0)\n",
    "callbacks_list = [earlystop]"
   ]
  },
  {
   "cell_type": "markdown",
   "id": "44e8b89e-4156-4568-bd72-a32199bf7f8a",
   "metadata": {},
   "source": [
    "## Notes vectorizer\n",
    "Takes input of size n, and vocab of length l.\n",
    "returns vector of (n, l) where l is vocab embeddings"
   ]
  },
  {
   "cell_type": "code",
   "execution_count": 50,
   "id": "1afb3647-6e04-4643-aa49-5f0b699babe0",
   "metadata": {},
   "outputs": [],
   "source": [
    "from sklearn.feature_extraction.text import TfidfVectorizer"
   ]
  },
  {
   "cell_type": "code",
   "execution_count": 36,
   "id": "b82725d8-e47e-4ced-91af-a68d6732cdb1",
   "metadata": {},
   "outputs": [],
   "source": [
    "os.environ[\"CUDA_VISIBLE_DEVICES\"] = \"02\""
   ]
  },
  {
   "cell_type": "code",
   "execution_count": 53,
   "id": "ab264ea4-cadf-4c8a-8601-14fc6a0ad35f",
   "metadata": {
    "tags": []
   },
   "outputs": [
    {
     "name": "stdout",
     "output_type": "stream",
     "text": [
      "Running Fold: 1\n",
      "Epoch 1/10\n",
      "2/2 - 5s - loss: 0.7179 - main_output_loss: 0.3925 - aux_output_loss: 0.3254 - main_output_accuracy: 0.8759 - val_loss: 0.7352 - val_main_output_loss: 0.3600 - val_aux_output_loss: 0.3752 - val_main_output_accuracy: 0.8986 - 5s/epoch - 3s/step\n",
      "Epoch 2/10\n",
      "2/2 - 1s - loss: 0.7025 - main_output_loss: 0.3771 - aux_output_loss: 0.3254 - main_output_accuracy: 0.9201 - val_loss: 0.7401 - val_main_output_loss: 0.3649 - val_aux_output_loss: 0.3752 - val_main_output_accuracy: 0.8986 - 1s/epoch - 574ms/step\n",
      "Epoch 3/10\n",
      "2/2 - 1s - loss: 0.6897 - main_output_loss: 0.3644 - aux_output_loss: 0.3254 - main_output_accuracy: 0.9201 - val_loss: 0.7053 - val_main_output_loss: 0.3301 - val_aux_output_loss: 0.3752 - val_main_output_accuracy: 0.8986 - 1s/epoch - 504ms/step\n",
      "Epoch 4/10\n",
      "2/2 - 1s - loss: 0.6329 - main_output_loss: 0.3075 - aux_output_loss: 0.3254 - main_output_accuracy: 0.9201 - val_loss: 0.7295 - val_main_output_loss: 0.3543 - val_aux_output_loss: 0.3752 - val_main_output_accuracy: 0.8986 - 989ms/epoch - 494ms/step\n",
      "Epoch 5/10\n"
     ]
    },
    {
     "ename": "KeyboardInterrupt",
     "evalue": "",
     "output_type": "error",
     "traceback": [
      "\u001b[0;31m---------------------------------------------------------------------------\u001b[0m",
      "\u001b[0;31mKeyboardInterrupt\u001b[0m                         Traceback (most recent call last)",
      "\u001b[0;32m<ipython-input-53-59bf1f3811dd>\u001b[0m in \u001b[0;36m<module>\u001b[0;34m\u001b[0m\n\u001b[1;32m     20\u001b[0m         \u001b[0mepochs\u001b[0m\u001b[0;34m=\u001b[0m\u001b[0mepoch\u001b[0m\u001b[0;34m,\u001b[0m\u001b[0;34m\u001b[0m\u001b[0;34m\u001b[0m\u001b[0m\n\u001b[1;32m     21\u001b[0m         \u001b[0mvalidation_split\u001b[0m\u001b[0;34m=\u001b[0m\u001b[0;36m0.20\u001b[0m\u001b[0;34m,\u001b[0m\u001b[0;34m\u001b[0m\u001b[0;34m\u001b[0m\u001b[0m\n\u001b[0;32m---> 22\u001b[0;31m         verbose=2)\n\u001b[0m\u001b[1;32m     23\u001b[0m     \u001b[0my_pred\u001b[0m \u001b[0;34m=\u001b[0m \u001b[0mmodel\u001b[0m\u001b[0;34m.\u001b[0m\u001b[0mpredict\u001b[0m\u001b[0;34m(\u001b[0m\u001b[0mx\u001b[0m\u001b[0;34m[\u001b[0m\u001b[0mtest\u001b[0m\u001b[0;34m]\u001b[0m\u001b[0;34m,\u001b[0m \u001b[0mbatch_size\u001b[0m\u001b[0;34m=\u001b[0m\u001b[0mbatch\u001b[0m\u001b[0;34m)\u001b[0m\u001b[0;34m\u001b[0m\u001b[0;34m\u001b[0m\u001b[0m\n\u001b[1;32m     24\u001b[0m     \u001b[0my_pred\u001b[0m \u001b[0;34m=\u001b[0m \u001b[0my_pred\u001b[0m\u001b[0;34m[\u001b[0m\u001b[0;36m0\u001b[0m\u001b[0;34m]\u001b[0m\u001b[0;34m\u001b[0m\u001b[0;34m\u001b[0m\u001b[0m\n",
      "\u001b[0;32m~/anaconda3/envs/late-fusion/lib/python3.7/site-packages/keras/utils/traceback_utils.py\u001b[0m in \u001b[0;36merror_handler\u001b[0;34m(*args, **kwargs)\u001b[0m\n\u001b[1;32m     62\u001b[0m     \u001b[0mfiltered_tb\u001b[0m \u001b[0;34m=\u001b[0m \u001b[0;32mNone\u001b[0m\u001b[0;34m\u001b[0m\u001b[0;34m\u001b[0m\u001b[0m\n\u001b[1;32m     63\u001b[0m     \u001b[0;32mtry\u001b[0m\u001b[0;34m:\u001b[0m\u001b[0;34m\u001b[0m\u001b[0;34m\u001b[0m\u001b[0m\n\u001b[0;32m---> 64\u001b[0;31m       \u001b[0;32mreturn\u001b[0m \u001b[0mfn\u001b[0m\u001b[0;34m(\u001b[0m\u001b[0;34m*\u001b[0m\u001b[0margs\u001b[0m\u001b[0;34m,\u001b[0m \u001b[0;34m**\u001b[0m\u001b[0mkwargs\u001b[0m\u001b[0;34m)\u001b[0m\u001b[0;34m\u001b[0m\u001b[0;34m\u001b[0m\u001b[0m\n\u001b[0m\u001b[1;32m     65\u001b[0m     \u001b[0;32mexcept\u001b[0m \u001b[0mException\u001b[0m \u001b[0;32mas\u001b[0m \u001b[0me\u001b[0m\u001b[0;34m:\u001b[0m  \u001b[0;31m# pylint: disable=broad-except\u001b[0m\u001b[0;34m\u001b[0m\u001b[0;34m\u001b[0m\u001b[0m\n\u001b[1;32m     66\u001b[0m       \u001b[0mfiltered_tb\u001b[0m \u001b[0;34m=\u001b[0m \u001b[0m_process_traceback_frames\u001b[0m\u001b[0;34m(\u001b[0m\u001b[0me\u001b[0m\u001b[0;34m.\u001b[0m\u001b[0m__traceback__\u001b[0m\u001b[0;34m)\u001b[0m\u001b[0;34m\u001b[0m\u001b[0;34m\u001b[0m\u001b[0m\n",
      "\u001b[0;32m~/anaconda3/envs/late-fusion/lib/python3.7/site-packages/keras/engine/training.py\u001b[0m in \u001b[0;36mfit\u001b[0;34m(self, x, y, batch_size, epochs, verbose, callbacks, validation_split, validation_data, shuffle, class_weight, sample_weight, initial_epoch, steps_per_epoch, validation_steps, validation_batch_size, validation_freq, max_queue_size, workers, use_multiprocessing)\u001b[0m\n\u001b[1;32m   1407\u001b[0m                 _r=1):\n\u001b[1;32m   1408\u001b[0m               \u001b[0mcallbacks\u001b[0m\u001b[0;34m.\u001b[0m\u001b[0mon_train_batch_begin\u001b[0m\u001b[0;34m(\u001b[0m\u001b[0mstep\u001b[0m\u001b[0;34m)\u001b[0m\u001b[0;34m\u001b[0m\u001b[0;34m\u001b[0m\u001b[0m\n\u001b[0;32m-> 1409\u001b[0;31m               \u001b[0mtmp_logs\u001b[0m \u001b[0;34m=\u001b[0m \u001b[0mself\u001b[0m\u001b[0;34m.\u001b[0m\u001b[0mtrain_function\u001b[0m\u001b[0;34m(\u001b[0m\u001b[0miterator\u001b[0m\u001b[0;34m)\u001b[0m\u001b[0;34m\u001b[0m\u001b[0;34m\u001b[0m\u001b[0m\n\u001b[0m\u001b[1;32m   1410\u001b[0m               \u001b[0;32mif\u001b[0m \u001b[0mdata_handler\u001b[0m\u001b[0;34m.\u001b[0m\u001b[0mshould_sync\u001b[0m\u001b[0;34m:\u001b[0m\u001b[0;34m\u001b[0m\u001b[0;34m\u001b[0m\u001b[0m\n\u001b[1;32m   1411\u001b[0m                 \u001b[0mcontext\u001b[0m\u001b[0;34m.\u001b[0m\u001b[0masync_wait\u001b[0m\u001b[0;34m(\u001b[0m\u001b[0;34m)\u001b[0m\u001b[0;34m\u001b[0m\u001b[0;34m\u001b[0m\u001b[0m\n",
      "\u001b[0;32m~/anaconda3/envs/late-fusion/lib/python3.7/site-packages/tensorflow/python/util/traceback_utils.py\u001b[0m in \u001b[0;36merror_handler\u001b[0;34m(*args, **kwargs)\u001b[0m\n\u001b[1;32m    148\u001b[0m     \u001b[0mfiltered_tb\u001b[0m \u001b[0;34m=\u001b[0m \u001b[0;32mNone\u001b[0m\u001b[0;34m\u001b[0m\u001b[0;34m\u001b[0m\u001b[0m\n\u001b[1;32m    149\u001b[0m     \u001b[0;32mtry\u001b[0m\u001b[0;34m:\u001b[0m\u001b[0;34m\u001b[0m\u001b[0;34m\u001b[0m\u001b[0m\n\u001b[0;32m--> 150\u001b[0;31m       \u001b[0;32mreturn\u001b[0m \u001b[0mfn\u001b[0m\u001b[0;34m(\u001b[0m\u001b[0;34m*\u001b[0m\u001b[0margs\u001b[0m\u001b[0;34m,\u001b[0m \u001b[0;34m**\u001b[0m\u001b[0mkwargs\u001b[0m\u001b[0;34m)\u001b[0m\u001b[0;34m\u001b[0m\u001b[0;34m\u001b[0m\u001b[0m\n\u001b[0m\u001b[1;32m    151\u001b[0m     \u001b[0;32mexcept\u001b[0m \u001b[0mException\u001b[0m \u001b[0;32mas\u001b[0m \u001b[0me\u001b[0m\u001b[0;34m:\u001b[0m\u001b[0;34m\u001b[0m\u001b[0;34m\u001b[0m\u001b[0m\n\u001b[1;32m    152\u001b[0m       \u001b[0mfiltered_tb\u001b[0m \u001b[0;34m=\u001b[0m \u001b[0m_process_traceback_frames\u001b[0m\u001b[0;34m(\u001b[0m\u001b[0me\u001b[0m\u001b[0;34m.\u001b[0m\u001b[0m__traceback__\u001b[0m\u001b[0;34m)\u001b[0m\u001b[0;34m\u001b[0m\u001b[0;34m\u001b[0m\u001b[0m\n",
      "\u001b[0;32m~/anaconda3/envs/late-fusion/lib/python3.7/site-packages/tensorflow/python/eager/def_function.py\u001b[0m in \u001b[0;36m__call__\u001b[0;34m(self, *args, **kwds)\u001b[0m\n\u001b[1;32m    913\u001b[0m \u001b[0;34m\u001b[0m\u001b[0m\n\u001b[1;32m    914\u001b[0m       \u001b[0;32mwith\u001b[0m \u001b[0mOptionalXlaContext\u001b[0m\u001b[0;34m(\u001b[0m\u001b[0mself\u001b[0m\u001b[0;34m.\u001b[0m\u001b[0m_jit_compile\u001b[0m\u001b[0;34m)\u001b[0m\u001b[0;34m:\u001b[0m\u001b[0;34m\u001b[0m\u001b[0;34m\u001b[0m\u001b[0m\n\u001b[0;32m--> 915\u001b[0;31m         \u001b[0mresult\u001b[0m \u001b[0;34m=\u001b[0m \u001b[0mself\u001b[0m\u001b[0;34m.\u001b[0m\u001b[0m_call\u001b[0m\u001b[0;34m(\u001b[0m\u001b[0;34m*\u001b[0m\u001b[0margs\u001b[0m\u001b[0;34m,\u001b[0m \u001b[0;34m**\u001b[0m\u001b[0mkwds\u001b[0m\u001b[0;34m)\u001b[0m\u001b[0;34m\u001b[0m\u001b[0;34m\u001b[0m\u001b[0m\n\u001b[0m\u001b[1;32m    916\u001b[0m \u001b[0;34m\u001b[0m\u001b[0m\n\u001b[1;32m    917\u001b[0m       \u001b[0mnew_tracing_count\u001b[0m \u001b[0;34m=\u001b[0m \u001b[0mself\u001b[0m\u001b[0;34m.\u001b[0m\u001b[0mexperimental_get_tracing_count\u001b[0m\u001b[0;34m(\u001b[0m\u001b[0;34m)\u001b[0m\u001b[0;34m\u001b[0m\u001b[0;34m\u001b[0m\u001b[0m\n",
      "\u001b[0;32m~/anaconda3/envs/late-fusion/lib/python3.7/site-packages/tensorflow/python/eager/def_function.py\u001b[0m in \u001b[0;36m_call\u001b[0;34m(self, *args, **kwds)\u001b[0m\n\u001b[1;32m    945\u001b[0m       \u001b[0;31m# In this case we have created variables on the first call, so we run the\u001b[0m\u001b[0;34m\u001b[0m\u001b[0;34m\u001b[0m\u001b[0;34m\u001b[0m\u001b[0m\n\u001b[1;32m    946\u001b[0m       \u001b[0;31m# defunned version which is guaranteed to never create variables.\u001b[0m\u001b[0;34m\u001b[0m\u001b[0;34m\u001b[0m\u001b[0;34m\u001b[0m\u001b[0m\n\u001b[0;32m--> 947\u001b[0;31m       \u001b[0;32mreturn\u001b[0m \u001b[0mself\u001b[0m\u001b[0;34m.\u001b[0m\u001b[0m_stateless_fn\u001b[0m\u001b[0;34m(\u001b[0m\u001b[0;34m*\u001b[0m\u001b[0margs\u001b[0m\u001b[0;34m,\u001b[0m \u001b[0;34m**\u001b[0m\u001b[0mkwds\u001b[0m\u001b[0;34m)\u001b[0m  \u001b[0;31m# pylint: disable=not-callable\u001b[0m\u001b[0;34m\u001b[0m\u001b[0;34m\u001b[0m\u001b[0m\n\u001b[0m\u001b[1;32m    948\u001b[0m     \u001b[0;32melif\u001b[0m \u001b[0mself\u001b[0m\u001b[0;34m.\u001b[0m\u001b[0m_stateful_fn\u001b[0m \u001b[0;32mis\u001b[0m \u001b[0;32mnot\u001b[0m \u001b[0;32mNone\u001b[0m\u001b[0;34m:\u001b[0m\u001b[0;34m\u001b[0m\u001b[0;34m\u001b[0m\u001b[0m\n\u001b[1;32m    949\u001b[0m       \u001b[0;31m# Release the lock early so that multiple threads can perform the call\u001b[0m\u001b[0;34m\u001b[0m\u001b[0;34m\u001b[0m\u001b[0;34m\u001b[0m\u001b[0m\n",
      "\u001b[0;32m~/anaconda3/envs/late-fusion/lib/python3.7/site-packages/tensorflow/python/eager/function.py\u001b[0m in \u001b[0;36m__call__\u001b[0;34m(self, *args, **kwargs)\u001b[0m\n\u001b[1;32m   2452\u001b[0m        filtered_flat_args) = self._maybe_define_function(args, kwargs)\n\u001b[1;32m   2453\u001b[0m     return graph_function._call_flat(\n\u001b[0;32m-> 2454\u001b[0;31m         filtered_flat_args, captured_inputs=graph_function.captured_inputs)  # pylint: disable=protected-access\n\u001b[0m\u001b[1;32m   2455\u001b[0m \u001b[0;34m\u001b[0m\u001b[0m\n\u001b[1;32m   2456\u001b[0m   \u001b[0;34m@\u001b[0m\u001b[0mproperty\u001b[0m\u001b[0;34m\u001b[0m\u001b[0;34m\u001b[0m\u001b[0m\n",
      "\u001b[0;32m~/anaconda3/envs/late-fusion/lib/python3.7/site-packages/tensorflow/python/eager/function.py\u001b[0m in \u001b[0;36m_call_flat\u001b[0;34m(self, args, captured_inputs, cancellation_manager)\u001b[0m\n\u001b[1;32m   1859\u001b[0m       \u001b[0;31m# No tape is watching; skip to running the function.\u001b[0m\u001b[0;34m\u001b[0m\u001b[0;34m\u001b[0m\u001b[0;34m\u001b[0m\u001b[0m\n\u001b[1;32m   1860\u001b[0m       return self._build_call_outputs(self._inference_function.call(\n\u001b[0;32m-> 1861\u001b[0;31m           ctx, args, cancellation_manager=cancellation_manager))\n\u001b[0m\u001b[1;32m   1862\u001b[0m     forward_backward = self._select_forward_and_backward_functions(\n\u001b[1;32m   1863\u001b[0m         \u001b[0margs\u001b[0m\u001b[0;34m,\u001b[0m\u001b[0;34m\u001b[0m\u001b[0;34m\u001b[0m\u001b[0m\n",
      "\u001b[0;32m~/anaconda3/envs/late-fusion/lib/python3.7/site-packages/tensorflow/python/eager/function.py\u001b[0m in \u001b[0;36mcall\u001b[0;34m(self, ctx, args, cancellation_manager)\u001b[0m\n\u001b[1;32m    500\u001b[0m               \u001b[0minputs\u001b[0m\u001b[0;34m=\u001b[0m\u001b[0margs\u001b[0m\u001b[0;34m,\u001b[0m\u001b[0;34m\u001b[0m\u001b[0;34m\u001b[0m\u001b[0m\n\u001b[1;32m    501\u001b[0m               \u001b[0mattrs\u001b[0m\u001b[0;34m=\u001b[0m\u001b[0mattrs\u001b[0m\u001b[0;34m,\u001b[0m\u001b[0;34m\u001b[0m\u001b[0;34m\u001b[0m\u001b[0m\n\u001b[0;32m--> 502\u001b[0;31m               ctx=ctx)\n\u001b[0m\u001b[1;32m    503\u001b[0m         \u001b[0;32melse\u001b[0m\u001b[0;34m:\u001b[0m\u001b[0;34m\u001b[0m\u001b[0;34m\u001b[0m\u001b[0m\n\u001b[1;32m    504\u001b[0m           outputs = execute.execute_with_cancellation(\n",
      "\u001b[0;32m~/anaconda3/envs/late-fusion/lib/python3.7/site-packages/tensorflow/python/eager/execute.py\u001b[0m in \u001b[0;36mquick_execute\u001b[0;34m(op_name, num_outputs, inputs, attrs, ctx, name)\u001b[0m\n\u001b[1;32m     53\u001b[0m     \u001b[0mctx\u001b[0m\u001b[0;34m.\u001b[0m\u001b[0mensure_initialized\u001b[0m\u001b[0;34m(\u001b[0m\u001b[0;34m)\u001b[0m\u001b[0;34m\u001b[0m\u001b[0;34m\u001b[0m\u001b[0m\n\u001b[1;32m     54\u001b[0m     tensors = pywrap_tfe.TFE_Py_Execute(ctx._handle, device_name, op_name,\n\u001b[0;32m---> 55\u001b[0;31m                                         inputs, attrs, num_outputs)\n\u001b[0m\u001b[1;32m     56\u001b[0m   \u001b[0;32mexcept\u001b[0m \u001b[0mcore\u001b[0m\u001b[0;34m.\u001b[0m\u001b[0m_NotOkStatusException\u001b[0m \u001b[0;32mas\u001b[0m \u001b[0me\u001b[0m\u001b[0;34m:\u001b[0m\u001b[0;34m\u001b[0m\u001b[0;34m\u001b[0m\u001b[0m\n\u001b[1;32m     57\u001b[0m     \u001b[0;32mif\u001b[0m \u001b[0mname\u001b[0m \u001b[0;32mis\u001b[0m \u001b[0;32mnot\u001b[0m \u001b[0;32mNone\u001b[0m\u001b[0;34m:\u001b[0m\u001b[0;34m\u001b[0m\u001b[0;34m\u001b[0m\u001b[0m\n",
      "\u001b[0;31mKeyboardInterrupt\u001b[0m: "
     ]
    }
   ],
   "source": [
    "i = 0\n",
    "kfold = StratifiedKFold(n_splits=5, shuffle=True, random_state=seed)\n",
    "notes_vectorizer = TfidfVectorizer(max_features=vocabulary)\n",
    "\n",
    "for train, test in kfold.split(np.zeros(len(y)), y):\n",
    "    print(\"Running Fold:\", i+1)\n",
    "    model = interp_net()  # re-initializing every time\n",
    "    kfold_notes_train = [patient_notes[i] for i in train]\n",
    "    kfold_notes_test = [patient_notes[i] for i in test]\n",
    "    notes_tfidf = notes_vectorizer.fit(kfold_notes_train) #train vocab on train set, then use vectorizer on test set\n",
    "    model.compile(\n",
    "        optimizer='adam',\n",
    "        loss={'main_output': 'binary_crossentropy', 'aux_output': customloss},\n",
    "        loss_weights={'main_output': 1., 'aux_output': 1.},\n",
    "        metrics={'main_output': 'accuracy'})\n",
    "    model.fit(\n",
    "        {'input': x[train], 'notes_input': notes_vectorizer.transform(kfold_notes_train).todense()}, {'main_output': y[train], 'aux_output': x[train]},\n",
    "        batch_size=batch,\n",
    "        callbacks=callbacks_list,\n",
    "        epochs=epoch,\n",
    "        validation_split=0.20,\n",
    "        verbose=2)\n",
    "    y_pred = model.predict(x[test], batch_size=batch)\n",
    "    y_pred = y_pred[0]\n",
    "    total_loss, score, reconst_loss, acc = model.evaluate(\n",
    "        {'input': x[test], 'notes_input': notes_vectorizer.transform(kfold_notes_test).todense()}, {'main_output': y[test], 'aux_output': x[test]},\n",
    "        batch_size=batch,\n",
    "        verbose=0)\n",
    "    results['loss'].append(score)\n",
    "    results['acc'].append(acc)\n",
    "    results['auc'].append(auc_score(y[test], y_pred))\n",
    "    results['auprc'].append(auprc(y[test], y_pred))\n",
    "    print(results)\n",
    "    i += 1\n",
    "    break #FIXME"
   ]
  },
  {
   "cell_type": "code",
   "execution_count": 37,
   "id": "03e23936-a188-45c0-9ace-bd80fb16f83c",
   "metadata": {},
   "outputs": [
    {
     "data": {
      "text/plain": [
       "Text(0.5, 0, 'Run from 1-5')"
      ]
     },
     "execution_count": 37,
     "metadata": {},
     "output_type": "execute_result"
    },
    {
     "data": {
      "image/png": "[encoded data removed]",
      "text/plain": [
       "<Figure size 432x288 with 1 Axes>"
      ]
     },
     "metadata": {
      "needs_background": "light"
     },
     "output_type": "display_data"
    }
   ],
   "source": [
    "plt.plot(results['acc'], label='acc')\n",
    "plt.plot(results['auc'], label='auc')\n",
    "plt.plot(results['loss'], label='loss')\n",
    "plt.legend(loc=\"lower right\")\n",
    "plt.title(f\"Outputs of interpolation network on 5000 patients\")\n",
    "plt.xlabel(\"Run from 1-5\")"
   ]
  },
  {
   "cell_type": "code",
   "execution_count": null,
   "id": "f33247b1-1645-452f-aa2c-6ffdb055161c",
   "metadata": {},
   "outputs": [],
   "source": []
  }
 ],
 "metadata": {
  "kernelspec": {
   "display_name": "Python 3",
   "language": "python",
   "name": "python3"
  },
  "language_info": {
   "codemirror_mode": {
    "name": "ipython",
    "version": 3
   },
   "file_extension": ".py",
   "mimetype": "text/x-python",
   "name": "python",
   "nbconvert_exporter": "python",
   "pygments_lexer": "ipython3",
   "version": "3.7.13"
  }
 },
 "nbformat": 4,
 "nbformat_minor": 5
}
