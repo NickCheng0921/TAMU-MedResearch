{
 "cells": [
  {
   "cell_type": "code",
   "execution_count": 21,
   "id": "91f4c97a-0311-4834-8ecf-217eb5afc408",
   "metadata": {},
   "outputs": [],
   "source": [
    "import pandas, os"
   ]
  },
  {
   "cell_type": "code",
   "execution_count": 22,
   "id": "c810eb5c-686a-4d08-9e58-eb10cdb11655",
   "metadata": {},
   "outputs": [],
   "source": [
    "notes_path = \"../mimic3Notes/physionet.org/files/mimiciii/1.4/NOTEEVENTS.csv\""
   ]
  },
  {
   "cell_type": "code",
   "execution_count": 23,
   "id": "6e101f00-f693-4f47-a2bf-f1102285fba2",
   "metadata": {},
   "outputs": [],
   "source": [
    "#csv is extremely large (3 Gb) or 91,691,299 lines\n",
    "#grab chunks, and predict mortality w/in chunks\n",
    "notes_reader = pandas.read_csv(notes_path, iterator=True)"
   ]
  },
  {
   "cell_type": "code",
   "execution_count": 35,
   "id": "a12e78c5-dbf3-40d5-89f9-19c3b332c9f7",
   "metadata": {},
   "outputs": [],
   "source": [
    "#reader reads from a stream, this means that calling it \"consumes\" the filestream\n",
    "chunk = notes_reader.get_chunk(10000)"
   ]
  },
  {
   "cell_type": "code",
   "execution_count": 36,
   "id": "ef55d87a-d315-43e6-b330-83d88a2b2d97",
   "metadata": {},
   "outputs": [
    {
     "data": {
      "text/plain": [
       "Index(['ROW_ID', 'SUBJECT_ID', 'HADM_ID', 'CHARTDATE', 'CHARTTIME',\n",
       "       'STORETIME', 'CATEGORY', 'DESCRIPTION', 'CGID', 'ISERROR', 'TEXT'],\n",
       "      dtype='object')"
      ]
     },
     "execution_count": 36,
     "metadata": {},
     "output_type": "execute_result"
    }
   ],
   "source": [
    "chunk.columns"
   ]
  },
  {
   "cell_type": "code",
   "execution_count": 32,
   "id": "df5b9558-42e0-4c29-b334-9090f5eb14b0",
   "metadata": {},
   "outputs": [
    {
     "data": {
      "text/html": [
       "<div>\n",
       "<style scoped>\n",
       "    .dataframe tbody tr th:only-of-type {\n",
       "        vertical-align: middle;\n",
       "    }\n",
       "\n",
       "    .dataframe tbody tr th {\n",
       "        vertical-align: top;\n",
       "    }\n",
       "\n",
       "    .dataframe thead th {\n",
       "        text-align: right;\n",
       "    }\n",
       "</style>\n",
       "<table border=\"1\" class=\"dataframe\">\n",
       "  <thead>\n",
       "    <tr style=\"text-align: right;\">\n",
       "      <th></th>\n",
       "      <th>ROW_ID</th>\n",
       "      <th>SUBJECT_ID</th>\n",
       "      <th>HADM_ID</th>\n",
       "      <th>CHARTDATE</th>\n",
       "      <th>CHARTTIME</th>\n",
       "      <th>STORETIME</th>\n",
       "      <th>CATEGORY</th>\n",
       "      <th>DESCRIPTION</th>\n",
       "      <th>CGID</th>\n",
       "      <th>ISERROR</th>\n",
       "      <th>TEXT</th>\n",
       "    </tr>\n",
       "  </thead>\n",
       "  <tbody>\n",
       "    <tr>\n",
       "      <th>505</th>\n",
       "      <td>515</td>\n",
       "      <td>30946</td>\n",
       "      <td>183748</td>\n",
       "      <td>2167-01-02</td>\n",
       "      <td>NaN</td>\n",
       "      <td>NaN</td>\n",
       "      <td>Discharge summary</td>\n",
       "      <td>Report</td>\n",
       "      <td>NaN</td>\n",
       "      <td>NaN</td>\n",
       "      <td>Admission Date:  [**2166-12-29**]             ...</td>\n",
       "    </tr>\n",
       "    <tr>\n",
       "      <th>506</th>\n",
       "      <td>516</td>\n",
       "      <td>30946</td>\n",
       "      <td>123440</td>\n",
       "      <td>2169-12-05</td>\n",
       "      <td>NaN</td>\n",
       "      <td>NaN</td>\n",
       "      <td>Discharge summary</td>\n",
       "      <td>Report</td>\n",
       "      <td>NaN</td>\n",
       "      <td>NaN</td>\n",
       "      <td>Admission Date:  [**2169-12-5**]              ...</td>\n",
       "    </tr>\n",
       "    <tr>\n",
       "      <th>507</th>\n",
       "      <td>517</td>\n",
       "      <td>97982</td>\n",
       "      <td>170458</td>\n",
       "      <td>2134-12-07</td>\n",
       "      <td>NaN</td>\n",
       "      <td>NaN</td>\n",
       "      <td>Discharge summary</td>\n",
       "      <td>Report</td>\n",
       "      <td>NaN</td>\n",
       "      <td>NaN</td>\n",
       "      <td>Admission Date:  [**2134-12-3**]              ...</td>\n",
       "    </tr>\n",
       "    <tr>\n",
       "      <th>508</th>\n",
       "      <td>518</td>\n",
       "      <td>2650</td>\n",
       "      <td>188655</td>\n",
       "      <td>2132-09-26</td>\n",
       "      <td>NaN</td>\n",
       "      <td>NaN</td>\n",
       "      <td>Discharge summary</td>\n",
       "      <td>Report</td>\n",
       "      <td>NaN</td>\n",
       "      <td>NaN</td>\n",
       "      <td>Admission Date:  [**2132-7-9**]       Discharg...</td>\n",
       "    </tr>\n",
       "    <tr>\n",
       "      <th>509</th>\n",
       "      <td>519</td>\n",
       "      <td>69323</td>\n",
       "      <td>180244</td>\n",
       "      <td>2199-07-16</td>\n",
       "      <td>NaN</td>\n",
       "      <td>NaN</td>\n",
       "      <td>Discharge summary</td>\n",
       "      <td>Report</td>\n",
       "      <td>NaN</td>\n",
       "      <td>NaN</td>\n",
       "      <td>Admission Date:  [**2199-7-13**]              ...</td>\n",
       "    </tr>\n",
       "    <tr>\n",
       "      <th>...</th>\n",
       "      <td>...</td>\n",
       "      <td>...</td>\n",
       "      <td>...</td>\n",
       "      <td>...</td>\n",
       "      <td>...</td>\n",
       "      <td>...</td>\n",
       "      <td>...</td>\n",
       "      <td>...</td>\n",
       "      <td>...</td>\n",
       "      <td>...</td>\n",
       "      <td>...</td>\n",
       "    </tr>\n",
       "    <tr>\n",
       "      <th>1000</th>\n",
       "      <td>1163</td>\n",
       "      <td>76558</td>\n",
       "      <td>119695</td>\n",
       "      <td>2160-08-12</td>\n",
       "      <td>NaN</td>\n",
       "      <td>NaN</td>\n",
       "      <td>Discharge summary</td>\n",
       "      <td>Report</td>\n",
       "      <td>NaN</td>\n",
       "      <td>NaN</td>\n",
       "      <td>Admission Date:  [**2160-8-4**]              D...</td>\n",
       "    </tr>\n",
       "    <tr>\n",
       "      <th>1001</th>\n",
       "      <td>1164</td>\n",
       "      <td>10038</td>\n",
       "      <td>111115</td>\n",
       "      <td>2144-02-21</td>\n",
       "      <td>NaN</td>\n",
       "      <td>NaN</td>\n",
       "      <td>Discharge summary</td>\n",
       "      <td>Report</td>\n",
       "      <td>NaN</td>\n",
       "      <td>NaN</td>\n",
       "      <td>Admission Date:  [**2144-2-9**]              D...</td>\n",
       "    </tr>\n",
       "    <tr>\n",
       "      <th>1002</th>\n",
       "      <td>1165</td>\n",
       "      <td>20715</td>\n",
       "      <td>175098</td>\n",
       "      <td>2116-12-13</td>\n",
       "      <td>NaN</td>\n",
       "      <td>NaN</td>\n",
       "      <td>Discharge summary</td>\n",
       "      <td>Report</td>\n",
       "      <td>NaN</td>\n",
       "      <td>NaN</td>\n",
       "      <td>Admission Date:  [**2116-12-3**]              ...</td>\n",
       "    </tr>\n",
       "    <tr>\n",
       "      <th>1003</th>\n",
       "      <td>1166</td>\n",
       "      <td>11948</td>\n",
       "      <td>129591</td>\n",
       "      <td>2112-03-30</td>\n",
       "      <td>NaN</td>\n",
       "      <td>NaN</td>\n",
       "      <td>Discharge summary</td>\n",
       "      <td>Report</td>\n",
       "      <td>NaN</td>\n",
       "      <td>NaN</td>\n",
       "      <td>Admission Date:  [**2112-3-24**]       Dischar...</td>\n",
       "    </tr>\n",
       "    <tr>\n",
       "      <th>1004</th>\n",
       "      <td>1167</td>\n",
       "      <td>11658</td>\n",
       "      <td>154944</td>\n",
       "      <td>2180-11-30</td>\n",
       "      <td>NaN</td>\n",
       "      <td>NaN</td>\n",
       "      <td>Discharge summary</td>\n",
       "      <td>Report</td>\n",
       "      <td>NaN</td>\n",
       "      <td>NaN</td>\n",
       "      <td>Admission Date:  [**2180-11-5**]              ...</td>\n",
       "    </tr>\n",
       "  </tbody>\n",
       "</table>\n",
       "<p>500 rows × 11 columns</p>\n",
       "</div>"
      ],
      "text/plain": [
       "      ROW_ID  SUBJECT_ID  HADM_ID   CHARTDATE  CHARTTIME  STORETIME  \\\n",
       "505      515       30946   183748  2167-01-02        NaN        NaN   \n",
       "506      516       30946   123440  2169-12-05        NaN        NaN   \n",
       "507      517       97982   170458  2134-12-07        NaN        NaN   \n",
       "508      518        2650   188655  2132-09-26        NaN        NaN   \n",
       "509      519       69323   180244  2199-07-16        NaN        NaN   \n",
       "...      ...         ...      ...         ...        ...        ...   \n",
       "1000    1163       76558   119695  2160-08-12        NaN        NaN   \n",
       "1001    1164       10038   111115  2144-02-21        NaN        NaN   \n",
       "1002    1165       20715   175098  2116-12-13        NaN        NaN   \n",
       "1003    1166       11948   129591  2112-03-30        NaN        NaN   \n",
       "1004    1167       11658   154944  2180-11-30        NaN        NaN   \n",
       "\n",
       "               CATEGORY DESCRIPTION  CGID  ISERROR  \\\n",
       "505   Discharge summary      Report   NaN      NaN   \n",
       "506   Discharge summary      Report   NaN      NaN   \n",
       "507   Discharge summary      Report   NaN      NaN   \n",
       "508   Discharge summary      Report   NaN      NaN   \n",
       "509   Discharge summary      Report   NaN      NaN   \n",
       "...                 ...         ...   ...      ...   \n",
       "1000  Discharge summary      Report   NaN      NaN   \n",
       "1001  Discharge summary      Report   NaN      NaN   \n",
       "1002  Discharge summary      Report   NaN      NaN   \n",
       "1003  Discharge summary      Report   NaN      NaN   \n",
       "1004  Discharge summary      Report   NaN      NaN   \n",
       "\n",
       "                                                   TEXT  \n",
       "505   Admission Date:  [**2166-12-29**]             ...  \n",
       "506   Admission Date:  [**2169-12-5**]              ...  \n",
       "507   Admission Date:  [**2134-12-3**]              ...  \n",
       "508   Admission Date:  [**2132-7-9**]       Discharg...  \n",
       "509   Admission Date:  [**2199-7-13**]              ...  \n",
       "...                                                 ...  \n",
       "1000  Admission Date:  [**2160-8-4**]              D...  \n",
       "1001  Admission Date:  [**2144-2-9**]              D...  \n",
       "1002  Admission Date:  [**2116-12-3**]              ...  \n",
       "1003  Admission Date:  [**2112-3-24**]       Dischar...  \n",
       "1004  Admission Date:  [**2180-11-5**]              ...  \n",
       "\n",
       "[500 rows x 11 columns]"
      ]
     },
     "execution_count": 32,
     "metadata": {},
     "output_type": "execute_result"
    }
   ],
   "source": [
    "chunk"
   ]
  },
  {
   "cell_type": "code",
   "execution_count": 37,
   "id": "87887718-25e4-4982-b917-d5c611a3e1b0",
   "metadata": {},
   "outputs": [
    {
     "data": {
      "text/plain": [
       "pandas.core.series.Series"
      ]
     },
     "execution_count": 37,
     "metadata": {},
     "output_type": "execute_result"
    }
   ],
   "source": [
    "type(chunk['CATEGORY'])"
   ]
  },
  {
   "cell_type": "code",
   "execution_count": 38,
   "id": "19fbf1f1-d125-43cd-9cdc-443188c042de",
   "metadata": {},
   "outputs": [
    {
     "data": {
      "text/plain": [
       "{'Discharge summary'}"
      ]
     },
     "execution_count": 38,
     "metadata": {},
     "output_type": "execute_result"
    }
   ],
   "source": [
    "set(chunk['CATEGORY'])"
   ]
  },
  {
   "cell_type": "code",
   "execution_count": null,
   "id": "342aae00-5b3e-462c-845a-08758a0ef16f",
   "metadata": {},
   "outputs": [],
   "source": []
  }
 ],
 "metadata": {
  "kernelspec": {
   "display_name": "Python 3",
   "language": "python",
   "name": "python3"
  },
  "language_info": {
   "codemirror_mode": {
    "name": "ipython",
    "version": 3
   },
   "file_extension": ".py",
   "mimetype": "text/x-python",
   "name": "python",
   "nbconvert_exporter": "python",
   "pygments_lexer": "ipython3",
   "version": "3.7.13"
  }
 },
 "nbformat": 4,
 "nbformat_minor": 5
}
